{
 "cells": [
  {
   "cell_type": "markdown",
   "id": "55e7c7e9-4f3b-4c37-9166-5adee27dc6c7",
   "metadata": {},
   "source": [
    "Building kubeflow pipeline\n"
   ]
  },
  {
   "cell_type": "code",
   "execution_count": 1,
   "id": "54a4b017-1987-40c3-b063-64062fd1e338",
   "metadata": {
    "tags": []
   },
   "outputs": [],
   "source": [
    "# !pip install kfp"
   ]
  },
  {
   "cell_type": "code",
   "execution_count": 5,
   "id": "14f14f6c-d3d5-4beb-a886-f00568cec6c2",
   "metadata": {
    "tags": []
   },
   "outputs": [
    {
     "name": "stdout",
     "output_type": "stream",
     "text": [
      "Writing Dockerfile\n"
     ]
    }
   ],
   "source": [
    "%%writefile Dockerfile\n",
    "\n",
    "FROM python:3.10-slim\n",
    "\n",
    "WORKDIR /app\n",
    "\n",
    "COPY . ./\n",
    "\n",
    "RUN pip install -r requirements.txt\n",
    "\n",
    "CMD streamlit run webapp.py"
   ]
  },
  {
   "cell_type": "code",
   "execution_count": 7,
   "id": "03a71627-0d1a-45fa-b2fa-8726b4448d35",
   "metadata": {
    "tags": []
   },
   "outputs": [],
   "source": [
    "# !docker build -t aman123lug/sleep-disorder ."
   ]
  },
  {
   "cell_type": "code",
   "execution_count": 8,
   "id": "83262428-0705-43c9-958e-f296e6c93203",
   "metadata": {
    "tags": []
   },
   "outputs": [],
   "source": [
    "import kfp\n",
    "import kfp.components as comp\n",
    "from kubernetes.client.models import V1EnvVar"
   ]
  },
  {
   "cell_type": "code",
   "execution_count": 10,
   "id": "02084c29-af5f-4923-8858-a7302a5a19dd",
   "metadata": {
    "tags": []
   },
   "outputs": [],
   "source": [
    "@kfp.dsl.component\n",
    "def get_data():\n",
    "    getdata_component = kfp.dsl.ContainerOp(\n",
    "        name='Data-Preparation',\n",
    "        image='docker.io/aman123lug/sleep-disorder',\n",
    "        command=['python', 'src/dataIngestion.py'],\n",
    "        )\n",
    "    return getdata_component"
   ]
  },
  {
   "cell_type": "code",
   "execution_count": 11,
   "id": "5d71d0cc-e63a-4e2b-9922-83bf8206d78e",
   "metadata": {
    "tags": []
   },
   "outputs": [],
   "source": [
    "@kfp.dsl.component\n",
    "def data_preprocessing():    \n",
    "    # Defining component configuration\n",
    "    data_preprocessing = kfp.dsl.ContainerOp(\n",
    "        name='Data-preprocessing',\n",
    "        image='docker.io/aman123lug/sleep-disorder',\n",
    "        command=['python', 'src/preprocess.py'],\n",
    "        )\n",
    "    return data_preprocessing"
   ]
  },
  {
   "cell_type": "code",
   "execution_count": 12,
   "id": "90f0b6cc-bc11-46cb-88e9-11478c3d8111",
   "metadata": {
    "tags": []
   },
   "outputs": [],
   "source": [
    "@kfp.dsl.component\n",
    "def training():\n",
    "    # Defining component configuration\n",
    "    training_component = kfp.dsl.ContainerOp(\n",
    "        name='training',\n",
    "        image='docker.io/aman123lug/sleep-disorder',\n",
    "        command=['python', 'src/train.py'],\n",
    "        # file_outputs={'mlpipeline-ui-metadata':'/mlpipeline-ui-metadata.json', \"mlpipeline-metrics\":'/mlpipeline-metrics.json'}\n",
    "        )\n",
    "    \n",
    "    return training_component"
   ]
  },
  {
   "cell_type": "code",
   "execution_count": 13,
   "id": "eaf3070a-420b-4355-afb3-756cec2d1923",
   "metadata": {},
   "outputs": [
    {
     "name": "stdout",
     "output_type": "stream",
     "text": [
      "<kfp.components.pipeline_task.PipelineTask object at 0x000001806E0173A0>\n"
     ]
    }
   ],
   "source": [
    "# Let see output of component configuration\n",
    "debug = True\n",
    "if debug :\n",
    "    training_component_vis = training()\n",
    "    print(training_component_vis)"
   ]
  },
  {
   "cell_type": "code",
   "execution_count": 16,
   "id": "d6d9f515-bfa3-4021-b30b-8b63bc587957",
   "metadata": {
    "tags": []
   },
   "outputs": [],
   "source": [
    "@kfp.dsl.pipeline(\n",
    "  name=\"Sleep-Disorder-Prediction-by-KrishAryan\",\n",
    "  description=\"Sleep Disorder prediction\"\n",
    ")\n",
    "def sleep():\n",
    "    download_data = get_data()\n",
    "    # download_data.execution_options.caching_strategy.max_cache_staleness = \"P0D\"\n",
    "    data_processing = data_preprocessing().after(download_data)\n",
    "    # data_processing.execution_options.caching_strategy.max_cache_staleness = \"P0D\"\n",
    "    train = training().after(data_processing)\n",
    "    # train.execution_options.caching_strategy.max_cache_staleness = \"P0D\""
   ]
  },
  {
   "cell_type": "code",
   "execution_count": 17,
   "id": "235c65b8-11be-4408-a900-863186e26e94",
   "metadata": {
    "tags": []
   },
   "outputs": [],
   "source": [
    "kfp.compiler.Compiler().compile(sleep, \"sleep-disorder-kubeflow-pipeline-sdk.yaml\")"
   ]
  },
  {
   "cell_type": "code",
   "execution_count": 14,
   "id": "90d51bbc-b7a0-4b9e-8fe8-38f1b73c08bc",
   "metadata": {},
   "outputs": [],
   "source": []
  },
  {
   "cell_type": "code",
   "execution_count": 16,
   "id": "379396dc-4831-4827-a55c-3ba04ea532c2",
   "metadata": {
    "tags": []
   },
   "outputs": [],
   "source": []
  },
  {
   "cell_type": "code",
   "execution_count": null,
   "id": "2c3b925d-e4a0-4df5-82cd-5eccd5a4f000",
   "metadata": {},
   "outputs": [],
   "source": []
  }
 ],
 "metadata": {
  "kernelspec": {
   "display_name": "Python 3 (ipykernel)",
   "language": "python",
   "name": "python3"
  },
  "language_info": {
   "codemirror_mode": {
    "name": "ipython",
    "version": 3
   },
   "file_extension": ".py",
   "mimetype": "text/x-python",
   "name": "python",
   "nbconvert_exporter": "python",
   "pygments_lexer": "ipython3",
   "version": "3.10.9"
  }
 },
 "nbformat": 4,
 "nbformat_minor": 5
}
