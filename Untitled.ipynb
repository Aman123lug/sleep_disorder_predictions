{
 "cells": [
  {
   "cell_type": "code",
   "execution_count": 4,
   "id": "6c1ad1fc-26c6-417e-9128-a46643d3fb5e",
   "metadata": {
    "tags": []
   },
   "outputs": [],
   "source": [
    "from kfp import dsl\n",
    "import kfp\n",
    "@dsl.component\n",
    "def square(x: float) -> float:\n",
    "    return x ** 2\n",
    "\n",
    "@dsl.component\n",
    "def add(x: float, y: float) -> float:\n",
    "    return x + y\n",
    "\n",
    "@dsl.component\n",
    "def square_root(x: float) -> float:\n",
    "    return x ** .5\n",
    "\n",
    "@dsl.pipeline\n",
    "def square_and_sum(a: float, b: float) -> float:\n",
    "    a_sq_task = square(x=a)\n",
    "    b_sq_task = square(x=b)\n",
    "    return add(x=a_sq_task.output, y=b_sq_task.output).output\n",
    "\n",
    "@dsl.pipeline\n",
    "def pythagorean(a: float = 1.2, b: float = 1.2) -> float:\n",
    "    sq_and_sum_task = square_and_sum(a=a, b=b)\n",
    "    return square_root(x=sq_and_sum_task.output).output"
   ]
  },
  {
   "cell_type": "code",
   "execution_count": 5,
   "id": "b23cf019-8703-4329-ae2e-0ae3ed854d4b",
   "metadata": {
    "tags": []
   },
   "outputs": [],
   "source": [
    "kfp.compiler.Compiler().compile(pythagorean, package_path='pipeline.yaml')"
   ]
  },
  {
   "cell_type": "code",
   "execution_count": null,
   "id": "fc471f33-9b9e-42e4-af30-75afbcc78835",
   "metadata": {},
   "outputs": [],
   "source": []
  }
 ],
 "metadata": {
  "kernelspec": {
   "display_name": "Python 3 (ipykernel)",
   "language": "python",
   "name": "python3"
  },
  "language_info": {
   "codemirror_mode": {
    "name": "ipython",
    "version": 3
   },
   "file_extension": ".py",
   "mimetype": "text/x-python",
   "name": "python",
   "nbconvert_exporter": "python",
   "pygments_lexer": "ipython3",
   "version": "3.10.9"
  }
 },
 "nbformat": 4,
 "nbformat_minor": 5
}
